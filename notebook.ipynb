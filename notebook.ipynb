{
 "cells": [
  {
   "cell_type": "code",
   "execution_count": 12,
   "metadata": {},
   "outputs": [],
   "source": [
    "import glob\n",
    "import fileinput\n",
    "\n",
    "def load_input(input_directory):\n",
    "     \n",
    "     dir_path = input_directory + \"/*.txt\"\n",
    "     filenames = glob.glob(dir_path)\n",
    "\n",
    "     sequence = []\n",
    "     with fileinput.input(files = filenames) as file  :\n",
    "          for line in lines:\n",
    "               tupla = (fileinput.filename(), line)\n",
    "               sequence.append(tupla)\n",
    "     return sequence\n"
   ]
  },
  {
   "cell_type": "code",
   "execution_count": 10,
   "metadata": {},
   "outputs": [],
   "source": [
    "def mapper(sequence):\n",
    "    \n",
    "    new_sequence = []\n",
    "    for _, text in sequence:\n",
    "        for word in text.split():\n",
    "            tupla = (word, 1)\n",
    "            new_sequence.append(tupla)\n",
    "    return new_sequence\n",
    "\n"
   ]
  },
  {
   "cell_type": "code",
   "execution_count": 13,
   "metadata": {},
   "outputs": [
    {
     "ename": "NameError",
     "evalue": "name 'lines' is not defined",
     "output_type": "error",
     "traceback": [
      "\u001b[1;31m---------------------------------------------------------------------------\u001b[0m",
      "\u001b[1;31mNameError\u001b[0m                                 Traceback (most recent call last)",
      "Cell \u001b[1;32mIn[13], line 6\u001b[0m\n\u001b[0;32m      3\u001b[0m     new_sequence \u001b[39m=\u001b[39m \u001b[39msorted\u001b[39m(sequence, key\u001b[39m=\u001b[39m\u001b[39mlambda\u001b[39;00m x: x[\u001b[39m0\u001b[39m])\n\u001b[0;32m      4\u001b[0m     \u001b[39mreturn\u001b[39;00m new_sequence\n\u001b[1;32m----> 6\u001b[0m sequence \u001b[39m=\u001b[39m load_input(\u001b[39m\"\u001b[39;49m\u001b[39minput\u001b[39;49m\u001b[39m\"\u001b[39;49m)\n\u001b[0;32m      7\u001b[0m sequence \u001b[39m=\u001b[39m mapper(sequence)\n",
      "Cell \u001b[1;32mIn[12], line 11\u001b[0m, in \u001b[0;36mload_input\u001b[1;34m(input_directory)\u001b[0m\n\u001b[0;32m      9\u001b[0m sequence \u001b[39m=\u001b[39m []\n\u001b[0;32m     10\u001b[0m \u001b[39mwith\u001b[39;00m fileinput\u001b[39m.\u001b[39minput(files \u001b[39m=\u001b[39m filenames) \u001b[39mas\u001b[39;00m file  :\n\u001b[1;32m---> 11\u001b[0m      \u001b[39mfor\u001b[39;00m line \u001b[39min\u001b[39;00m lines:\n\u001b[0;32m     12\u001b[0m           tupla \u001b[39m=\u001b[39m (fileinput\u001b[39m.\u001b[39mfilename(), line)\n\u001b[0;32m     13\u001b[0m           sequence\u001b[39m.\u001b[39mappend(tupla)\n",
      "\u001b[1;31mNameError\u001b[0m: name 'lines' is not defined"
     ]
    }
   ],
   "source": [
    "def shuffle_and_sort(sequence):\n",
    "    \n",
    "    new_sequence = sorted(sequence, key=lambda x: x[0])\n",
    "    return new_sequence\n",
    "\n",
    "sequence = load_input(\"input\")\n",
    "sequence = mapper(sequence)\n"
   ]
  },
  {
   "cell_type": "code",
   "execution_count": 1,
   "metadata": {},
   "outputs": [],
   "source": [
    "def reducer(sequence):\n",
    "\n",
    "    diccionario = {}\n",
    "    for key, value in sequence:\n",
    "        if key not in diccionario.keys():\n",
    "            diccionario[key] = []\n",
    "        diccionario[key].append(value)\n",
    "\n",
    "    new_sequence = []\n",
    "    for key, value in diccionario.items():\n",
    "        tupla = (key,sum(value))\n",
    "        new_sequence.append(tupla)\n",
    "    \n",
    "    return new_sequence\n"
   ]
  },
  {
   "cell_type": "code",
   "execution_count": 2,
   "metadata": {},
   "outputs": [],
   "source": [
    "import os.path\n",
    "\n",
    "def create_output_directory(output_directory):\n",
    "    if os.path.exists(output_directory):\n",
    "        raise FileExistsError"
   ]
  }
 ],
 "metadata": {
  "kernelspec": {
   "display_name": "Python 3",
   "language": "python",
   "name": "python3"
  },
  "language_info": {
   "codemirror_mode": {
    "name": "ipython",
    "version": 3
   },
   "file_extension": ".py",
   "mimetype": "text/x-python",
   "name": "python",
   "nbconvert_exporter": "python",
   "pygments_lexer": "ipython3",
   "version": "3.9.5"
  },
  "orig_nbformat": 4
 },
 "nbformat": 4,
 "nbformat_minor": 2
}
